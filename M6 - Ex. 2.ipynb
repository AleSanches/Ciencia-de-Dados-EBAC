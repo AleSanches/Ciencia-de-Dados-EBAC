{
 "cells": [
  {
   "cell_type": "markdown",
   "metadata": {},
   "source": [
    "# Módulo 06 Tarefa 2"
   ]
  },
  {
   "cell_type": "code",
   "execution_count": 2,
   "metadata": {},
   "outputs": [],
   "source": [
    "import pandas as pd\n",
    "import matplotlib.pyplot as plt\n",
    "import seaborn as sns"
   ]
  },
  {
   "cell_type": "markdown",
   "metadata": {},
   "source": [
    "####  1) Na base do SINASC do DataSUS, faça um boxplot da idade da mãe."
   ]
  },
  {
   "cell_type": "code",
   "execution_count": 4,
   "metadata": {},
   "outputs": [
    {
     "data": {
      "text/html": [
       "<div>\n",
       "<style scoped>\n",
       "    .dataframe tbody tr th:only-of-type {\n",
       "        vertical-align: middle;\n",
       "    }\n",
       "\n",
       "    .dataframe tbody tr th {\n",
       "        vertical-align: top;\n",
       "    }\n",
       "\n",
       "    .dataframe thead th {\n",
       "        text-align: right;\n",
       "    }\n",
       "</style>\n",
       "<table border=\"1\" class=\"dataframe\">\n",
       "  <thead>\n",
       "    <tr style=\"text-align: right;\">\n",
       "      <th></th>\n",
       "      <th>ORIGEM</th>\n",
       "      <th>CODESTAB</th>\n",
       "      <th>CODMUNNASC</th>\n",
       "      <th>LOCNASC</th>\n",
       "      <th>IDADEMAE</th>\n",
       "      <th>ESTCIVMAE</th>\n",
       "      <th>ESCMAE</th>\n",
       "      <th>CODOCUPMAE</th>\n",
       "      <th>QTDFILVIVO</th>\n",
       "      <th>QTDFILMORT</th>\n",
       "      <th>...</th>\n",
       "      <th>KOTELCHUCK</th>\n",
       "      <th>CONTADOR</th>\n",
       "      <th>munResStatus</th>\n",
       "      <th>munResTipo</th>\n",
       "      <th>munResNome</th>\n",
       "      <th>munResUf</th>\n",
       "      <th>munResLat</th>\n",
       "      <th>munResLon</th>\n",
       "      <th>munResAlt</th>\n",
       "      <th>munResArea</th>\n",
       "    </tr>\n",
       "  </thead>\n",
       "  <tbody>\n",
       "    <tr>\n",
       "      <th>0</th>\n",
       "      <td>1</td>\n",
       "      <td>2679477.0</td>\n",
       "      <td>110001</td>\n",
       "      <td>1</td>\n",
       "      <td>19</td>\n",
       "      <td>5.0</td>\n",
       "      <td>8 a 11 anos</td>\n",
       "      <td>NaN</td>\n",
       "      <td>0.0</td>\n",
       "      <td>0.0</td>\n",
       "      <td>...</td>\n",
       "      <td>5</td>\n",
       "      <td>1</td>\n",
       "      <td>ATIVO</td>\n",
       "      <td>MUNIC</td>\n",
       "      <td>Alta Floresta D'Oeste</td>\n",
       "      <td>Rondônia</td>\n",
       "      <td>-11.93554</td>\n",
       "      <td>-61.99982</td>\n",
       "      <td>338.0</td>\n",
       "      <td>7067.025</td>\n",
       "    </tr>\n",
       "    <tr>\n",
       "      <th>1</th>\n",
       "      <td>1</td>\n",
       "      <td>2679477.0</td>\n",
       "      <td>110001</td>\n",
       "      <td>1</td>\n",
       "      <td>29</td>\n",
       "      <td>2.0</td>\n",
       "      <td>8 a 11 anos</td>\n",
       "      <td>999992.0</td>\n",
       "      <td>1.0</td>\n",
       "      <td>0.0</td>\n",
       "      <td>...</td>\n",
       "      <td>5</td>\n",
       "      <td>2</td>\n",
       "      <td>ATIVO</td>\n",
       "      <td>MUNIC</td>\n",
       "      <td>Alta Floresta D'Oeste</td>\n",
       "      <td>Rondônia</td>\n",
       "      <td>-11.93554</td>\n",
       "      <td>-61.99982</td>\n",
       "      <td>338.0</td>\n",
       "      <td>7067.025</td>\n",
       "    </tr>\n",
       "    <tr>\n",
       "      <th>2</th>\n",
       "      <td>1</td>\n",
       "      <td>2679477.0</td>\n",
       "      <td>110001</td>\n",
       "      <td>1</td>\n",
       "      <td>37</td>\n",
       "      <td>9.0</td>\n",
       "      <td>8 a 11 anos</td>\n",
       "      <td>513205.0</td>\n",
       "      <td>2.0</td>\n",
       "      <td>0.0</td>\n",
       "      <td>...</td>\n",
       "      <td>5</td>\n",
       "      <td>3</td>\n",
       "      <td>ATIVO</td>\n",
       "      <td>MUNIC</td>\n",
       "      <td>Alta Floresta D'Oeste</td>\n",
       "      <td>Rondônia</td>\n",
       "      <td>-11.93554</td>\n",
       "      <td>-61.99982</td>\n",
       "      <td>338.0</td>\n",
       "      <td>7067.025</td>\n",
       "    </tr>\n",
       "    <tr>\n",
       "      <th>3</th>\n",
       "      <td>1</td>\n",
       "      <td>2516500.0</td>\n",
       "      <td>110001</td>\n",
       "      <td>1</td>\n",
       "      <td>30</td>\n",
       "      <td>5.0</td>\n",
       "      <td>12 anos ou mais</td>\n",
       "      <td>231205.0</td>\n",
       "      <td>0.0</td>\n",
       "      <td>0.0</td>\n",
       "      <td>...</td>\n",
       "      <td>4</td>\n",
       "      <td>4</td>\n",
       "      <td>ATIVO</td>\n",
       "      <td>MUNIC</td>\n",
       "      <td>Alto Alegre dos Parecis</td>\n",
       "      <td>Rondônia</td>\n",
       "      <td>-12.13178</td>\n",
       "      <td>-61.85308</td>\n",
       "      <td>397.0</td>\n",
       "      <td>3958.273</td>\n",
       "    </tr>\n",
       "    <tr>\n",
       "      <th>4</th>\n",
       "      <td>1</td>\n",
       "      <td>2516500.0</td>\n",
       "      <td>110001</td>\n",
       "      <td>1</td>\n",
       "      <td>30</td>\n",
       "      <td>2.0</td>\n",
       "      <td>8 a 11 anos</td>\n",
       "      <td>999992.0</td>\n",
       "      <td>1.0</td>\n",
       "      <td>0.0</td>\n",
       "      <td>...</td>\n",
       "      <td>5</td>\n",
       "      <td>5</td>\n",
       "      <td>ATIVO</td>\n",
       "      <td>MUNIC</td>\n",
       "      <td>Alta Floresta D'Oeste</td>\n",
       "      <td>Rondônia</td>\n",
       "      <td>-11.93554</td>\n",
       "      <td>-61.99982</td>\n",
       "      <td>338.0</td>\n",
       "      <td>7067.025</td>\n",
       "    </tr>\n",
       "  </tbody>\n",
       "</table>\n",
       "<p>5 rows × 69 columns</p>\n",
       "</div>"
      ],
      "text/plain": [
       "   ORIGEM   CODESTAB  CODMUNNASC  LOCNASC  IDADEMAE  ESTCIVMAE  \\\n",
       "0       1  2679477.0      110001        1        19        5.0   \n",
       "1       1  2679477.0      110001        1        29        2.0   \n",
       "2       1  2679477.0      110001        1        37        9.0   \n",
       "3       1  2516500.0      110001        1        30        5.0   \n",
       "4       1  2516500.0      110001        1        30        2.0   \n",
       "\n",
       "            ESCMAE  CODOCUPMAE  QTDFILVIVO  QTDFILMORT  ...  KOTELCHUCK  \\\n",
       "0      8 a 11 anos         NaN         0.0         0.0  ...           5   \n",
       "1      8 a 11 anos    999992.0         1.0         0.0  ...           5   \n",
       "2      8 a 11 anos    513205.0         2.0         0.0  ...           5   \n",
       "3  12 anos ou mais    231205.0         0.0         0.0  ...           4   \n",
       "4      8 a 11 anos    999992.0         1.0         0.0  ...           5   \n",
       "\n",
       "  CONTADOR munResStatus munResTipo               munResNome  munResUf  \\\n",
       "0        1        ATIVO      MUNIC    Alta Floresta D'Oeste  Rondônia   \n",
       "1        2        ATIVO      MUNIC    Alta Floresta D'Oeste  Rondônia   \n",
       "2        3        ATIVO      MUNIC    Alta Floresta D'Oeste  Rondônia   \n",
       "3        4        ATIVO      MUNIC  Alto Alegre dos Parecis  Rondônia   \n",
       "4        5        ATIVO      MUNIC    Alta Floresta D'Oeste  Rondônia   \n",
       "\n",
       "   munResLat munResLon  munResAlt  munResArea  \n",
       "0  -11.93554 -61.99982      338.0    7067.025  \n",
       "1  -11.93554 -61.99982      338.0    7067.025  \n",
       "2  -11.93554 -61.99982      338.0    7067.025  \n",
       "3  -12.13178 -61.85308      397.0    3958.273  \n",
       "4  -11.93554 -61.99982      338.0    7067.025  \n",
       "\n",
       "[5 rows x 69 columns]"
      ]
     },
     "execution_count": 4,
     "metadata": {},
     "output_type": "execute_result"
    }
   ],
   "source": [
    "base = pd.read_csv('b1abb33c4f.csv')\n",
    "base.head()\n"
   ]
  },
  {
   "cell_type": "code",
   "execution_count": 5,
   "metadata": {},
   "outputs": [
    {
     "data": {
      "text/plain": [
       "Index(['ORIGEM', 'CODESTAB', 'CODMUNNASC', 'LOCNASC', 'IDADEMAE', 'ESTCIVMAE',\n",
       "       'ESCMAE', 'CODOCUPMAE', 'QTDFILVIVO', 'QTDFILMORT', 'CODMUNRES',\n",
       "       'GESTACAO', 'GRAVIDEZ', 'PARTO', 'CONSULTAS', 'DTNASC', 'HORANASC',\n",
       "       'SEXO', 'APGAR1', 'APGAR5', 'RACACOR', 'PESO', 'IDANOMAL', 'DTCADASTRO',\n",
       "       'CODANOMAL', 'NUMEROLOTE', 'VERSAOSIST', 'DTRECEBIM', 'DIFDATA',\n",
       "       'DTRECORIGA', 'NATURALMAE', 'CODMUNNATU', 'CODUFNATU', 'ESCMAE2010',\n",
       "       'SERIESCMAE', 'DTNASCMAE', 'RACACORMAE', 'QTDGESTANT', 'QTDPARTNOR',\n",
       "       'QTDPARTCES', 'IDADEPAI', 'DTULTMENST', 'SEMAGESTAC', 'TPMETESTIM',\n",
       "       'CONSPRENAT', 'MESPRENAT', 'TPAPRESENT', 'STTRABPART', 'STCESPARTO',\n",
       "       'TPNASCASSI', 'TPFUNCRESP', 'TPDOCRESP', 'DTDECLARAC', 'ESCMAEAGR1',\n",
       "       'STDNEPIDEM', 'STDNNOVA', 'CODPAISRES', 'TPROBSON', 'PARIDADE',\n",
       "       'KOTELCHUCK', 'CONTADOR', 'munResStatus', 'munResTipo', 'munResNome',\n",
       "       'munResUf', 'munResLat', 'munResLon', 'munResAlt', 'munResArea'],\n",
       "      dtype='object')"
      ]
     },
     "execution_count": 5,
     "metadata": {},
     "output_type": "execute_result"
    }
   ],
   "source": [
    "base.columns"
   ]
  },
  {
   "cell_type": "code",
   "execution_count": 11,
   "metadata": {},
   "outputs": [
    {
     "data": {
      "text/plain": [
       "<AxesSubplot:ylabel='IDADEMAE'>"
      ]
     },
     "execution_count": 11,
     "metadata": {},
     "output_type": "execute_result"
    },
    {
     "data": {
      "image/png": "[encoded data removed]",
      "text/plain": [
       "<Figure size 432x288 with 1 Axes>"
      ]
     },
     "metadata": {
      "needs_background": "light"
     },
     "output_type": "display_data"
    }
   ],
   "source": [
    "sns.boxplot(y='IDADEMAE', data = base)"
   ]
  },
  {
   "cell_type": "markdown",
   "metadata": {},
   "source": [
    "####  2) Faça um boxplot do peso do bebê"
   ]
  },
  {
   "cell_type": "code",
   "execution_count": 17,
   "metadata": {},
   "outputs": [
    {
     "data": {
      "text/plain": [
       "<AxesSubplot:ylabel='PESO'>"
      ]
     },
     "execution_count": 17,
     "metadata": {},
     "output_type": "execute_result"
    },
    {
     "data": {
      "image/png": "[encoded data removed]",
      "text/plain": [
       "<Figure size 432x288 with 1 Axes>"
      ]
     },
     "metadata": {
      "needs_background": "light"
     },
     "output_type": "display_data"
    }
   ],
   "source": [
    "sns.boxplot(y = 'PESO', data = base)"
   ]
  },
  {
   "cell_type": "markdown",
   "metadata": {},
   "source": [
    "####  3) Faça um histograma da idade da mãe"
   ]
  },
  {
   "cell_type": "code",
   "execution_count": 21,
   "metadata": {},
   "outputs": [
    {
     "data": {
      "text/plain": [
       "<seaborn.axisgrid.FacetGrid at 0x1f7d98b3d30>"
      ]
     },
     "execution_count": 21,
     "metadata": {},
     "output_type": "execute_result"
    },
    {
     "data": {
      "image/png": "[encoded data removed]",
      "text/plain": [
       "<Figure size 360x360 with 1 Axes>"
      ]
     },
     "metadata": {
      "needs_background": "light"
     },
     "output_type": "display_data"
    }
   ],
   "source": [
    "sns.displot(data = base\n",
    "            , x = 'IDADEMAE')"
   ]
  },
  {
   "cell_type": "markdown",
   "metadata": {},
   "source": [
    "#### 4) Faça um histograma do peso do bebê"
   ]
  },
  {
   "cell_type": "code",
   "execution_count": 22,
   "metadata": {},
   "outputs": [
    {
     "data": {
      "text/plain": [
       "<seaborn.axisgrid.FacetGrid at 0x1f7d9a43b50>"
      ]
     },
     "execution_count": 22,
     "metadata": {},
     "output_type": "execute_result"
    },
    {
     "data": {
      "image/png": "[encoded data removed]",
      "text/plain": [
       "<Figure size 360x360 with 1 Axes>"
      ]
     },
     "metadata": {
      "needs_background": "light"
     },
     "output_type": "display_data"
    }
   ],
   "source": [
    "sns.displot(data = base\n",
    "            , x = 'PESO')"
   ]
  }
 ],
 "metadata": {
  "kernelspec": {
   "display_name": "Python 3 (ipykernel)",
   "language": "python",
   "name": "python3"
  },
  "language_info": {
   "codemirror_mode": {
    "name": "ipython",
    "version": 3
   },
   "file_extension": ".py",
   "mimetype": "text/x-python",
   "name": "python",
   "nbconvert_exporter": "python",
   "pygments_lexer": "ipython3",
   "version": "3.9.12"
  }
 },
 "nbformat": 4,
 "nbformat_minor": 4
}
